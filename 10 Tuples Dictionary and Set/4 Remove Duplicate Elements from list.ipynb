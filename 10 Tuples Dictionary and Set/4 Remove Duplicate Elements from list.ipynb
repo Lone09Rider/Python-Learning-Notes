{
 "cells": [
  {
   "cell_type": "markdown",
   "id": "aa4fd719",
   "metadata": {},
   "source": [
    "# Instead of Iteration use Set Function"
   ]
  },
  {
   "cell_type": "code",
   "execution_count": 1,
   "id": "d25ffca2",
   "metadata": {},
   "outputs": [],
   "source": [
    "x = [1, 2, 3, 4, 5, 9,  9, 1, 1, 9, 1]"
   ]
  },
  {
   "cell_type": "code",
   "execution_count": 2,
   "id": "e58783c0",
   "metadata": {},
   "outputs": [
    {
     "name": "stdout",
     "output_type": "stream",
     "text": [
      "[1, 2, 3, 4, 5, 9, 9, 1, 1, 9, 1]\n"
     ]
    }
   ],
   "source": [
    "print(x)"
   ]
  },
  {
   "cell_type": "markdown",
   "id": "c0e68726",
   "metadata": {},
   "source": [
    "# Iteration"
   ]
  },
  {
   "cell_type": "code",
   "execution_count": 3,
   "id": "43d00e6e",
   "metadata": {},
   "outputs": [
    {
     "name": "stdout",
     "output_type": "stream",
     "text": [
      "The original list is : [1, 2, 3, 4, 5, 9, 9, 1, 1, 9, 1]\n",
      "The list after removing duplicates : [1, 2, 3, 4, 5, 9]\n"
     ]
    }
   ],
   "source": [
    "test_list = [1, 2, 3, 4, 5, 9,  9, 1, 1, 9, 1]\n",
    "print (\"The original list is : \" +  str(test_list))\n",
    "  \n",
    "res = []\n",
    "for i in test_list:\n",
    "    if i not in res:\n",
    "        res.append(i)\n",
    "   \n",
    "print (\"The list after removing duplicates : \" + str(res))"
   ]
  },
  {
   "cell_type": "markdown",
   "id": "a9e15464",
   "metadata": {},
   "source": [
    "# Using Set Function"
   ]
  },
  {
   "cell_type": "code",
   "execution_count": 4,
   "id": "0f496741",
   "metadata": {},
   "outputs": [
    {
     "name": "stdout",
     "output_type": "stream",
     "text": [
      "[1, 2, 3, 4, 5, 9, 9, 1, 1, 9, 1]\n",
      "{1, 2, 3, 4, 5, 9}\n",
      "[1, 2, 3, 4, 5, 9]\n"
     ]
    }
   ],
   "source": [
    "print(x)\n",
    "y = set(x)\n",
    "print(y)\n",
    "z = list(y)\n",
    "print(z)"
   ]
  },
  {
   "cell_type": "code",
   "execution_count": null,
   "id": "c2b475f8",
   "metadata": {},
   "outputs": [],
   "source": []
  }
 ],
 "metadata": {
  "kernelspec": {
   "display_name": "Python 3 (ipykernel)",
   "language": "python",
   "name": "python3"
  },
  "language_info": {
   "codemirror_mode": {
    "name": "ipython",
    "version": 3
   },
   "file_extension": ".py",
   "mimetype": "text/x-python",
   "name": "python",
   "nbconvert_exporter": "python",
   "pygments_lexer": "ipython3",
   "version": "3.8.0"
  }
 },
 "nbformat": 4,
 "nbformat_minor": 5
}
