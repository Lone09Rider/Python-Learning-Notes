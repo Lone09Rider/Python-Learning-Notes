{
 "cells": [
  {
   "cell_type": "code",
   "execution_count": 1,
   "id": "57dfe338",
   "metadata": {},
   "outputs": [],
   "source": [
    "li = [[1, 2, 3, 4], [5, 6, 7, 8], [9, 10, 11, 12], [13 , 14, 15, 16]]"
   ]
  },
  {
   "cell_type": "code",
   "execution_count": 2,
   "id": "2141ae12",
   "metadata": {},
   "outputs": [
    {
     "name": "stdout",
     "output_type": "stream",
     "text": [
      "9\n"
     ]
    }
   ],
   "source": [
    "print(li[2][0])"
   ]
  },
  {
   "cell_type": "code",
   "execution_count": 3,
   "id": "89d88faf",
   "metadata": {},
   "outputs": [
    {
     "name": "stdout",
     "output_type": "stream",
     "text": [
      "5\n"
     ]
    }
   ],
   "source": [
    "print(li[1][0])"
   ]
  },
  {
   "cell_type": "code",
   "execution_count": 4,
   "id": "fbc1fc01",
   "metadata": {},
   "outputs": [
    {
     "name": "stdout",
     "output_type": "stream",
     "text": [
      "59\n"
     ]
    }
   ],
   "source": [
    "li[2][0] = 59\n",
    "print(li[2][0])"
   ]
  },
  {
   "cell_type": "code",
   "execution_count": 5,
   "id": "cceba648",
   "metadata": {},
   "outputs": [
    {
     "name": "stdout",
     "output_type": "stream",
     "text": [
      "[[1, 2, 3, 4], [5, 6, 7, 8], [59, 10, 11, 12], [13, 14, 15, 16]]\n"
     ]
    }
   ],
   "source": [
    "print(li)"
   ]
  },
  {
   "cell_type": "code",
   "execution_count": 6,
   "id": "521fb07d",
   "metadata": {},
   "outputs": [],
   "source": [
    "li[0].append(95)"
   ]
  },
  {
   "cell_type": "code",
   "execution_count": 7,
   "id": "b0c1e22e",
   "metadata": {},
   "outputs": [
    {
     "name": "stdout",
     "output_type": "stream",
     "text": [
      "[[1, 2, 3, 4, 95], [5, 6, 7, 8], [59, 10, 11, 12], [13, 14, 15, 16]]\n"
     ]
    }
   ],
   "source": [
    "print(li)"
   ]
  },
  {
   "cell_type": "code",
   "execution_count": 8,
   "id": "d715fd83",
   "metadata": {},
   "outputs": [],
   "source": [
    "li.append([1, 2, 3])"
   ]
  },
  {
   "cell_type": "code",
   "execution_count": 10,
   "id": "e0e666aa",
   "metadata": {},
   "outputs": [
    {
     "name": "stdout",
     "output_type": "stream",
     "text": [
      "[[1, 2, 3, 4, 95], [5, 6, 7, 8], [59, 10, 11, 12], [13, 14, 15, 16], [1, 2, 3]]\n"
     ]
    }
   ],
   "source": [
    "print(li)"
   ]
  },
  {
   "cell_type": "code",
   "execution_count": null,
   "id": "39be49a5",
   "metadata": {},
   "outputs": [],
   "source": []
  }
 ],
 "metadata": {
  "kernelspec": {
   "display_name": "Python 3 (ipykernel)",
   "language": "python",
   "name": "python3"
  },
  "language_info": {
   "codemirror_mode": {
    "name": "ipython",
    "version": 3
   },
   "file_extension": ".py",
   "mimetype": "text/x-python",
   "name": "python",
   "nbconvert_exporter": "python",
   "pygments_lexer": "ipython3",
   "version": "3.8.0"
  }
 },
 "nbformat": 4,
 "nbformat_minor": 5
}
