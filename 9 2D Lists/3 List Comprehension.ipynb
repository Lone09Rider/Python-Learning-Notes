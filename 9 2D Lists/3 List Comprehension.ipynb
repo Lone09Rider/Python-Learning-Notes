{
 "cells": [
  {
   "cell_type": "code",
   "execution_count": 1,
   "id": "cd9db399",
   "metadata": {},
   "outputs": [],
   "source": [
    "li = [1, 2, 3, 4]"
   ]
  },
  {
   "cell_type": "markdown",
   "id": "849d83ac",
   "metadata": {},
   "source": [
    "#### This I Want to append"
   ]
  },
  {
   "cell_type": "code",
   "execution_count": 2,
   "id": "d1afc1c3",
   "metadata": {},
   "outputs": [
    {
     "name": "stdout",
     "output_type": "stream",
     "text": [
      "[1, 4, 9, 16]\n"
     ]
    }
   ],
   "source": [
    "li_new = []\n",
    "for ele in li:\n",
    "    li_new.append(ele**2)\n",
    "print(li_new)"
   ]
  },
  {
   "cell_type": "markdown",
   "id": "73032750",
   "metadata": {},
   "source": [
    "##### I can do it in One Line : Comprehension"
   ]
  },
  {
   "cell_type": "code",
   "execution_count": 3,
   "id": "c71fc3d1",
   "metadata": {},
   "outputs": [],
   "source": [
    "li_new_c = [ele**2 for ele in li]"
   ]
  },
  {
   "cell_type": "code",
   "execution_count": 4,
   "id": "1f8210ba",
   "metadata": {},
   "outputs": [
    {
     "data": {
      "text/plain": [
       "[1, 4, 9, 16]"
      ]
     },
     "execution_count": 4,
     "metadata": {},
     "output_type": "execute_result"
    }
   ],
   "source": [
    "li_new_c"
   ]
  },
  {
   "cell_type": "markdown",
   "id": "d97225a0",
   "metadata": {},
   "source": [
    "##### Comprehension  + Condition"
   ]
  },
  {
   "cell_type": "code",
   "execution_count": 5,
   "id": "c8981ee3",
   "metadata": {},
   "outputs": [],
   "source": [
    "li_even_square = [ele**2 for ele in li if ele%2==0]"
   ]
  },
  {
   "cell_type": "code",
   "execution_count": 6,
   "id": "7660f0bd",
   "metadata": {},
   "outputs": [
    {
     "data": {
      "text/plain": [
       "[4, 16]"
      ]
     },
     "execution_count": 6,
     "metadata": {},
     "output_type": "execute_result"
    }
   ],
   "source": [
    "li_even_square"
   ]
  },
  {
   "cell_type": "code",
   "execution_count": 7,
   "id": "ca3f180d",
   "metadata": {},
   "outputs": [],
   "source": [
    "li_2_3_multiple = [ele**2 for ele in li if ele%2==0 or ele%3==0]"
   ]
  },
  {
   "cell_type": "code",
   "execution_count": 8,
   "id": "51b2a7dc",
   "metadata": {},
   "outputs": [
    {
     "data": {
      "text/plain": [
       "[4, 9, 16]"
      ]
     },
     "execution_count": 8,
     "metadata": {},
     "output_type": "execute_result"
    }
   ],
   "source": [
    "li_2_3_multiple"
   ]
  },
  {
   "cell_type": "markdown",
   "id": "899d9a23",
   "metadata": {},
   "source": [
    "# Make a 2DList out of 1D List"
   ]
  },
  {
   "cell_type": "code",
   "execution_count": 9,
   "id": "5f87529f",
   "metadata": {},
   "outputs": [],
   "source": [
    "names = [\"kira\", \"hello\", \"baby\"]"
   ]
  },
  {
   "cell_type": "code",
   "execution_count": 11,
   "id": "1fb30592",
   "metadata": {},
   "outputs": [],
   "source": [
    "new_list_name = [[i for i in ele] for ele in names]"
   ]
  },
  {
   "cell_type": "code",
   "execution_count": 12,
   "id": "a200ba38",
   "metadata": {},
   "outputs": [
    {
     "data": {
      "text/plain": [
       "[['k', 'i', 'r', 'a'], ['h', 'e', 'l', 'l', 'o'], ['b', 'a', 'b', 'y']]"
      ]
     },
     "execution_count": 12,
     "metadata": {},
     "output_type": "execute_result"
    }
   ],
   "source": [
    "new_list_name"
   ]
  },
  {
   "cell_type": "code",
   "execution_count": null,
   "id": "fbfc3c5c",
   "metadata": {},
   "outputs": [],
   "source": []
  }
 ],
 "metadata": {
  "kernelspec": {
   "display_name": "Python 3 (ipykernel)",
   "language": "python",
   "name": "python3"
  },
  "language_info": {
   "codemirror_mode": {
    "name": "ipython",
    "version": 3
   },
   "file_extension": ".py",
   "mimetype": "text/x-python",
   "name": "python",
   "nbconvert_exporter": "python",
   "pygments_lexer": "ipython3",
   "version": "3.8.0"
  }
 },
 "nbformat": 4,
 "nbformat_minor": 5
}
