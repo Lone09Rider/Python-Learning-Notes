{
 "cells": [
  {
   "cell_type": "code",
   "execution_count": 1,
   "id": "79b148dd",
   "metadata": {},
   "outputs": [],
   "source": [
    "def col_sum(li):\n",
    "    if len(li) == 1:\n",
    "        return li[0]\n",
    "    else:\n",
    "        m = col_sum(li[1:])\n",
    "        return m if m > li[0] else c.append(li[0])"
   ]
  },
  {
   "cell_type": "code",
   "execution_count": 2,
   "id": "07e6e750",
   "metadata": {},
   "outputs": [
    {
     "name": "stdout",
     "output_type": "stream",
     "text": [
      "[1, 2, 3, 4]\n"
     ]
    }
   ],
   "source": [
    "x = [[1, 2, 3], [1,2], [1, 2, 3, 4]]\n",
    "print(col_sum(x))"
   ]
  },
  {
   "cell_type": "code",
   "execution_count": null,
   "id": "b74af172",
   "metadata": {},
   "outputs": [],
   "source": []
  }
 ],
 "metadata": {
  "kernelspec": {
   "display_name": "Python 3 (ipykernel)",
   "language": "python",
   "name": "python3"
  },
  "language_info": {
   "codemirror_mode": {
    "name": "ipython",
    "version": 3
   },
   "file_extension": ".py",
   "mimetype": "text/x-python",
   "name": "python",
   "nbconvert_exporter": "python",
   "pygments_lexer": "ipython3",
   "version": "3.8.0"
  }
 },
 "nbformat": 4,
 "nbformat_minor": 5
}
