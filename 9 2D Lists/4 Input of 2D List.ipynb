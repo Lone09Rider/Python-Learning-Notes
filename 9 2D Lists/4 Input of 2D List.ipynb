{
 "cells": [
  {
   "cell_type": "markdown",
   "id": "632d4dc4",
   "metadata": {},
   "source": [
    "# Normal 2D List Input"
   ]
  },
  {
   "cell_type": "code",
   "execution_count": 5,
   "id": "52039be9",
   "metadata": {},
   "outputs": [
    {
     "name": "stdout",
     "output_type": "stream",
     "text": [
      "2 3\n",
      "1 2 3 4\n",
      "1 2\n",
      "12\n",
      "1\n",
      "22\n",
      "23\n"
     ]
    }
   ],
   "source": [
    "str = input().split()\n",
    "n,m = int(str[0]), int(str[1])\n",
    "li = [[int(j) for j in input().split()] for i in range(n)]"
   ]
  },
  {
   "cell_type": "code",
   "execution_count": 6,
   "id": "bf285892",
   "metadata": {},
   "outputs": [
    {
     "name": "stdout",
     "output_type": "stream",
     "text": [
      "[[['1', '2', '3', '4'], ['1', '2'], ['12']], [['1'], ['22'], ['23']]]\n"
     ]
    }
   ],
   "source": [
    "print(li)"
   ]
  },
  {
   "cell_type": "markdown",
   "id": "e975787c",
   "metadata": {},
   "source": [
    "# Jagged List Input"
   ]
  },
  {
   "cell_type": "code",
   "execution_count": 3,
   "id": "2d574418",
   "metadata": {},
   "outputs": [
    {
     "name": "stdout",
     "output_type": "stream",
     "text": [
      "2\n",
      "1 2 3 4 \n",
      "5 9\n"
     ]
    }
   ],
   "source": [
    "n = int(input())\n",
    "li_1 = [[int(j) for j in input().split()] for i in range(n)]"
   ]
  },
  {
   "cell_type": "code",
   "execution_count": 4,
   "id": "5b37ff37",
   "metadata": {},
   "outputs": [
    {
     "data": {
      "text/plain": [
       "[[1, 2, 3, 4], [5, 9]]"
      ]
     },
     "execution_count": 4,
     "metadata": {},
     "output_type": "execute_result"
    }
   ],
   "source": [
    "li_1"
   ]
  }
 ],
 "metadata": {
  "kernelspec": {
   "display_name": "Python 3 (ipykernel)",
   "language": "python",
   "name": "python3"
  },
  "language_info": {
   "codemirror_mode": {
    "name": "ipython",
    "version": 3
   },
   "file_extension": ".py",
   "mimetype": "text/x-python",
   "name": "python",
   "nbconvert_exporter": "python",
   "pygments_lexer": "ipython3",
   "version": "3.8.0"
  }
 },
 "nbformat": 4,
 "nbformat_minor": 5
}
