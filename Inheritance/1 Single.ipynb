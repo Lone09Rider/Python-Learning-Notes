{
 "cells": [
  {
   "cell_type": "code",
   "execution_count": 1,
   "id": "c852567c-fb0e-45cb-8dca-0e30d47d6df1",
   "metadata": {},
   "outputs": [],
   "source": [
    "class A:\n",
    "    def funct(self):\n",
    "        print(\"In A\")\n",
    "class B(A):\n",
    "    def func1(self):\n",
    "        print(\"In B\")"
   ]
  },
  {
   "cell_type": "code",
   "execution_count": 2,
   "id": "e541ce8a-df50-4c7a-a196-668990f9e9d5",
   "metadata": {},
   "outputs": [],
   "source": [
    "z = B()"
   ]
  },
  {
   "cell_type": "code",
   "execution_count": 3,
   "id": "cd7d51f8-c0ca-4eae-ace7-468653943bba",
   "metadata": {},
   "outputs": [
    {
     "name": "stdout",
     "output_type": "stream",
     "text": [
      "In A\n"
     ]
    }
   ],
   "source": [
    "z.funct()"
   ]
  },
  {
   "cell_type": "code",
   "execution_count": 4,
   "id": "42224aba-672a-439a-bdf6-0f0483f8eba6",
   "metadata": {},
   "outputs": [
    {
     "name": "stdout",
     "output_type": "stream",
     "text": [
      "In B\n"
     ]
    }
   ],
   "source": [
    "z.func1()"
   ]
  },
  {
   "cell_type": "code",
   "execution_count": null,
   "id": "575cb7be-dae5-4375-874c-aeba3f1c15e5",
   "metadata": {},
   "outputs": [],
   "source": []
  }
 ],
 "metadata": {
  "kernelspec": {
   "display_name": "Python 3",
   "language": "python",
   "name": "python3"
  },
  "language_info": {
   "codemirror_mode": {
    "name": "ipython",
    "version": 3
   },
   "file_extension": ".py",
   "mimetype": "text/x-python",
   "name": "python",
   "nbconvert_exporter": "python",
   "pygments_lexer": "ipython3",
   "version": "3.8.8"
  }
 },
 "nbformat": 4,
 "nbformat_minor": 5
}
