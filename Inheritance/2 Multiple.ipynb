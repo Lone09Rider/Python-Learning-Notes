{
 "cells": [
  {
   "cell_type": "code",
   "execution_count": 1,
   "id": "0e21998d-016e-4ff5-9593-bd90b40b9b3e",
   "metadata": {},
   "outputs": [],
   "source": [
    "class A:  # Grandparent\n",
    "    \n",
    "    def func(self):\n",
    "        print(\"Hello\")\n",
    "\n",
    "class B(A):  # parent\n",
    "    \n",
    "    def func1(self):\n",
    "        print(\"World\")\n",
    "\n",
    "class C(B):  # Child\n",
    "    \n",
    "    def funct2(Self):\n",
    "        print(\"Yo\")"
   ]
  },
  {
   "cell_type": "code",
   "execution_count": 2,
   "id": "cc2eb74b-a1c9-4614-b1ff-0c593efa3f74",
   "metadata": {},
   "outputs": [],
   "source": [
    "x = C()"
   ]
  },
  {
   "cell_type": "code",
   "execution_count": 3,
   "id": "875c736a-c809-446d-a055-0de454d86d1d",
   "metadata": {},
   "outputs": [
    {
     "name": "stdout",
     "output_type": "stream",
     "text": [
      "Hello\n"
     ]
    }
   ],
   "source": [
    "x.func()"
   ]
  },
  {
   "cell_type": "code",
   "execution_count": 4,
   "id": "9d41acab-3f74-41c5-8973-9c65214de830",
   "metadata": {},
   "outputs": [
    {
     "name": "stdout",
     "output_type": "stream",
     "text": [
      "World\n"
     ]
    }
   ],
   "source": [
    "x.func1()"
   ]
  },
  {
   "cell_type": "code",
   "execution_count": 5,
   "id": "1ade937b-8477-420d-80a9-6c5352e52ee6",
   "metadata": {},
   "outputs": [
    {
     "name": "stdout",
     "output_type": "stream",
     "text": [
      "Yo\n"
     ]
    }
   ],
   "source": [
    "x.funct2()"
   ]
  },
  {
   "cell_type": "code",
   "execution_count": null,
   "id": "3aced282-ff2b-4437-9213-32d0e7cd3c37",
   "metadata": {},
   "outputs": [],
   "source": []
  }
 ],
 "metadata": {
  "kernelspec": {
   "display_name": "Python 3",
   "language": "python",
   "name": "python3"
  },
  "language_info": {
   "codemirror_mode": {
    "name": "ipython",
    "version": 3
   },
   "file_extension": ".py",
   "mimetype": "text/x-python",
   "name": "python",
   "nbconvert_exporter": "python",
   "pygments_lexer": "ipython3",
   "version": "3.8.8"
  }
 },
 "nbformat": 4,
 "nbformat_minor": 5
}
