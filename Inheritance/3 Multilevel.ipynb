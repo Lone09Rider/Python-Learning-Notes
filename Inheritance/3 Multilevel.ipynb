{
 "cells": [
  {
   "cell_type": "code",
   "execution_count": 1,
   "id": "84273f17-5e27-46a6-84c1-d13e17501fb9",
   "metadata": {},
   "outputs": [],
   "source": [
    "class A:  # Grandparent\n",
    "    \n",
    "    def func(self):\n",
    "        print(\"Hello\")\n",
    "\n",
    "class B:  # parent\n",
    "    \n",
    "    def func1(self):\n",
    "        print(\"World\")\n",
    "\n",
    "class C(A, B):  # Child\n",
    "    \n",
    "    def funct2(Self):\n",
    "        print(\"Yo\")"
   ]
  },
  {
   "cell_type": "code",
   "execution_count": 2,
   "id": "0d21651e-56f9-49ed-b591-0b80c5973cc4",
   "metadata": {},
   "outputs": [],
   "source": [
    "x = C()"
   ]
  },
  {
   "cell_type": "code",
   "execution_count": 3,
   "id": "f40506d9-ce0c-4501-bd51-091e1e1a720d",
   "metadata": {},
   "outputs": [
    {
     "name": "stdout",
     "output_type": "stream",
     "text": [
      "Hello\n"
     ]
    }
   ],
   "source": [
    "x.func()"
   ]
  },
  {
   "cell_type": "code",
   "execution_count": 4,
   "id": "bd5b6962-df8e-47a5-ad86-b4db879e7974",
   "metadata": {},
   "outputs": [
    {
     "name": "stdout",
     "output_type": "stream",
     "text": [
      "World\n"
     ]
    }
   ],
   "source": [
    "x.func1()"
   ]
  },
  {
   "cell_type": "code",
   "execution_count": 5,
   "id": "c2de095a-8aba-48ff-8108-ad5faaec5dfd",
   "metadata": {},
   "outputs": [
    {
     "name": "stdout",
     "output_type": "stream",
     "text": [
      "Yo\n"
     ]
    }
   ],
   "source": [
    "x.funct2()"
   ]
  },
  {
   "cell_type": "code",
   "execution_count": 6,
   "id": "2b899339-b4a8-4faf-a227-eab20993ddc5",
   "metadata": {},
   "outputs": [],
   "source": [
    "y = B()"
   ]
  },
  {
   "cell_type": "code",
   "execution_count": 8,
   "id": "c9da4edc-15fe-49e8-8293-4682177fc4d9",
   "metadata": {},
   "outputs": [
    {
     "name": "stdout",
     "output_type": "stream",
     "text": [
      "World\n"
     ]
    }
   ],
   "source": [
    "y.func1()"
   ]
  },
  {
   "cell_type": "code",
   "execution_count": 9,
   "id": "1dc8d42c-86b1-488a-9a77-af85909181fd",
   "metadata": {},
   "outputs": [],
   "source": [
    "z = A()"
   ]
  },
  {
   "cell_type": "code",
   "execution_count": 10,
   "id": "954937ad-ea90-40d3-83d4-55bdc6df28e5",
   "metadata": {},
   "outputs": [
    {
     "name": "stdout",
     "output_type": "stream",
     "text": [
      "Hello\n"
     ]
    }
   ],
   "source": [
    "z.func()"
   ]
  },
  {
   "cell_type": "code",
   "execution_count": null,
   "id": "31dd01a3-574b-4c92-9e5e-9f8436b2f5ee",
   "metadata": {},
   "outputs": [],
   "source": []
  }
 ],
 "metadata": {
  "kernelspec": {
   "display_name": "Python 3",
   "language": "python",
   "name": "python3"
  },
  "language_info": {
   "codemirror_mode": {
    "name": "ipython",
    "version": 3
   },
   "file_extension": ".py",
   "mimetype": "text/x-python",
   "name": "python",
   "nbconvert_exporter": "python",
   "pygments_lexer": "ipython3",
   "version": "3.8.8"
  }
 },
 "nbformat": 4,
 "nbformat_minor": 5
}
