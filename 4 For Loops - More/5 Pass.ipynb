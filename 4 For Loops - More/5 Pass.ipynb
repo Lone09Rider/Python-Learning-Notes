{
 "cells": [
  {
   "cell_type": "markdown",
   "id": "3a0c5690",
   "metadata": {},
   "source": [
    "# Ignores the Functions loops etc\n",
    "\n",
    "\n",
    "### Error Code"
   ]
  },
  {
   "cell_type": "code",
   "execution_count": 1,
   "id": "6e642b05",
   "metadata": {},
   "outputs": [
    {
     "ename": "IndentationError",
     "evalue": "expected an indented block (Temp/ipykernel_11564/2587608187.py, line 3)",
     "output_type": "error",
     "traceback": [
      "\u001b[1;36m  File \u001b[1;32m\"C:\\Users\\Admin\\AppData\\Local\\Temp/ipykernel_11564/2587608187.py\"\u001b[1;36m, line \u001b[1;32m3\u001b[0m\n\u001b[1;33m    print(\"Hello\")\u001b[0m\n\u001b[1;37m    ^\u001b[0m\n\u001b[1;31mIndentationError\u001b[0m\u001b[1;31m:\u001b[0m expected an indented block\n"
     ]
    }
   ],
   "source": [
    "for i in range(11):\n",
    "\n",
    "print(\"Hello\")"
   ]
  },
  {
   "cell_type": "markdown",
   "id": "165b9cb4",
   "metadata": {},
   "source": [
    "### With Pass"
   ]
  },
  {
   "cell_type": "code",
   "execution_count": 2,
   "id": "c0eb1205",
   "metadata": {},
   "outputs": [
    {
     "name": "stdout",
     "output_type": "stream",
     "text": [
      "Hello skipped For Loop\n"
     ]
    }
   ],
   "source": [
    "for i in range(11):\n",
    "    pass\n",
    "print(\"Hello skipped For Loop\")"
   ]
  },
  {
   "cell_type": "code",
   "execution_count": null,
   "id": "de32edc4",
   "metadata": {},
   "outputs": [],
   "source": []
  }
 ],
 "metadata": {
  "kernelspec": {
   "display_name": "Python 3 (ipykernel)",
   "language": "python",
   "name": "python3"
  },
  "language_info": {
   "codemirror_mode": {
    "name": "ipython",
    "version": 3
   },
   "file_extension": ".py",
   "mimetype": "text/x-python",
   "name": "python",
   "nbconvert_exporter": "python",
   "pygments_lexer": "ipython3",
   "version": "3.9.6"
  }
 },
 "nbformat": 4,
 "nbformat_minor": 5
}
