{
 "cells": [
  {
   "cell_type": "markdown",
   "id": "4f21b2a0",
   "metadata": {},
   "source": [
    "# Conditional If-Else-Elif\n",
    "\n",
    "\n",
    "### If-Else"
   ]
  },
  {
   "cell_type": "code",
   "execution_count": 2,
   "id": "2d26aac6",
   "metadata": {},
   "outputs": [],
   "source": [
    "x = 59"
   ]
  },
  {
   "cell_type": "code",
   "execution_count": 3,
   "id": "d4e3bc00",
   "metadata": {},
   "outputs": [
    {
     "name": "stdout",
     "output_type": "stream",
     "text": [
      "Jai Bholenath\n"
     ]
    }
   ],
   "source": [
    "if x < 9:\n",
    "    print(\"Not a Case\")\n",
    "else:\n",
    "    print(\"Jai Bholenath\")"
   ]
  },
  {
   "cell_type": "markdown",
   "id": "38c26ff1",
   "metadata": {},
   "source": [
    "### If-Else-Elif"
   ]
  },
  {
   "cell_type": "code",
   "execution_count": 4,
   "id": "ce7b67b9",
   "metadata": {},
   "outputs": [
    {
     "name": "stdout",
     "output_type": "stream",
     "text": [
      "Ten\n"
     ]
    }
   ],
   "source": [
    "x = 10\n",
    "if x == 8:\n",
    "    print(\"Eight\")\n",
    "elif x == 9:\n",
    "    print(\"Nine\")\n",
    "else:\n",
    "    print(\"Ten\")"
   ]
  },
  {
   "cell_type": "markdown",
   "id": "359e1dec",
   "metadata": {},
   "source": [
    "# Check Even or Not"
   ]
  },
  {
   "cell_type": "code",
   "execution_count": 9,
   "id": "03594582",
   "metadata": {},
   "outputs": [
    {
     "name": "stdout",
     "output_type": "stream",
     "text": [
      "Give a number : 6\n",
      "Odd / Even and multiple of 3\n"
     ]
    }
   ],
   "source": [
    "x = int(input(\"Give a number : \"))\n",
    "if x%3 == 0:\n",
    "    print(\"Odd / Even and multiple of 3\")\n",
    "elif x%2 == 0:\n",
    "    print(\"Even\")\n",
    "else:\n",
    "    print(\"Odd\")"
   ]
  },
  {
   "cell_type": "code",
   "execution_count": null,
   "id": "3cd4f4d5",
   "metadata": {},
   "outputs": [],
   "source": []
  }
 ],
 "metadata": {
  "kernelspec": {
   "display_name": "Python 3 (ipykernel)",
   "language": "python",
   "name": "python3"
  },
  "language_info": {
   "codemirror_mode": {
    "name": "ipython",
    "version": 3
   },
   "file_extension": ".py",
   "mimetype": "text/x-python",
   "name": "python",
   "nbconvert_exporter": "python",
   "pygments_lexer": "ipython3",
   "version": "3.9.6"
  }
 },
 "nbformat": 4,
 "nbformat_minor": 5
}
