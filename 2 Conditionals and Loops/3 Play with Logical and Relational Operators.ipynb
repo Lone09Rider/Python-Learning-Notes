{
 "cells": [
  {
   "cell_type": "code",
   "execution_count": 4,
   "id": "566d1427",
   "metadata": {},
   "outputs": [
    {
     "name": "stdout",
     "output_type": "stream",
     "text": [
      "10\n",
      "11\n",
      "False\n",
      "True\n",
      "One Less than 10\n"
     ]
    }
   ],
   "source": [
    "x = int(input())\n",
    "y = int(input())\n",
    "c1 = x > 10\n",
    "c2 = y > 10\n",
    "print(c1)\n",
    "print(c2)\n",
    "if c1 == True and c2 == True:\n",
    "    print(\"Greater than 10\")\n",
    "else:\n",
    "    print(\"One Less than 10\")"
   ]
  },
  {
   "cell_type": "code",
   "execution_count": null,
   "id": "bd558ed8",
   "metadata": {},
   "outputs": [],
   "source": []
  }
 ],
 "metadata": {
  "kernelspec": {
   "display_name": "Python 3 (ipykernel)",
   "language": "python",
   "name": "python3"
  },
  "language_info": {
   "codemirror_mode": {
    "name": "ipython",
    "version": 3
   },
   "file_extension": ".py",
   "mimetype": "text/x-python",
   "name": "python",
   "nbconvert_exporter": "python",
   "pygments_lexer": "ipython3",
   "version": "3.9.6"
  }
 },
 "nbformat": 4,
 "nbformat_minor": 5
}
