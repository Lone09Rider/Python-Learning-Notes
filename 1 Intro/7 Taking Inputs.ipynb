{
 "cells": [
  {
   "cell_type": "markdown",
   "id": "eed61892",
   "metadata": {},
   "source": [
    "# Basic Input is String\n",
    "\n",
    "## We have to typecast it to get another kind of input"
   ]
  },
  {
   "cell_type": "code",
   "execution_count": 1,
   "id": "a15a484b",
   "metadata": {},
   "outputs": [
    {
     "name": "stdout",
     "output_type": "stream",
     "text": [
      "Enter Something : 100\n"
     ]
    }
   ],
   "source": [
    "a = input(\"Enter Something : \")"
   ]
  },
  {
   "cell_type": "code",
   "execution_count": 2,
   "id": "193f1e1a",
   "metadata": {},
   "outputs": [
    {
     "name": "stdout",
     "output_type": "stream",
     "text": [
      "<class 'str'>\n"
     ]
    }
   ],
   "source": [
    "print(type(a))"
   ]
  },
  {
   "cell_type": "markdown",
   "id": "16be58e5",
   "metadata": {},
   "source": [
    "## Typecasting"
   ]
  },
  {
   "cell_type": "code",
   "execution_count": 3,
   "id": "a9ad4b29",
   "metadata": {},
   "outputs": [
    {
     "name": "stdout",
     "output_type": "stream",
     "text": [
      "Enter a number : 100\n"
     ]
    }
   ],
   "source": [
    "a = int(input(\"Enter a number : \"))"
   ]
  },
  {
   "cell_type": "code",
   "execution_count": 4,
   "id": "e63ecfe0",
   "metadata": {},
   "outputs": [
    {
     "name": "stdout",
     "output_type": "stream",
     "text": [
      "<class 'int'>\n"
     ]
    }
   ],
   "source": [
    "print(type(a))"
   ]
  },
  {
   "cell_type": "markdown",
   "id": "81deb63b",
   "metadata": {},
   "source": [
    "# So Now a Basic Project"
   ]
  },
  {
   "cell_type": "code",
   "execution_count": 5,
   "id": "2b0716e0",
   "metadata": {},
   "outputs": [
    {
     "name": "stdout",
     "output_type": "stream",
     "text": [
      "Enter Farenites : 100\n"
     ]
    }
   ],
   "source": [
    "f = int(input(\"Enter Farenites : \"))"
   ]
  },
  {
   "cell_type": "code",
   "execution_count": 6,
   "id": "0d5dcfd8",
   "metadata": {},
   "outputs": [
    {
     "name": "stdout",
     "output_type": "stream",
     "text": [
      "37.77777777777778\n"
     ]
    }
   ],
   "source": [
    "c = (f - 32) * 5/9\n",
    "print(c)"
   ]
  },
  {
   "cell_type": "code",
   "execution_count": 7,
   "id": "66eff292",
   "metadata": {},
   "outputs": [
    {
     "name": "stdout",
     "output_type": "stream",
     "text": [
      "Enter Farenites : 100\n",
      "100.0\n",
      "37.77777777777778\n"
     ]
    }
   ],
   "source": [
    "f = float(input(\"Enter Farenites : \"))\n",
    "print(f)\n",
    "c = (f - 32) * 5/9\n",
    "print(c)"
   ]
  },
  {
   "cell_type": "code",
   "execution_count": null,
   "id": "4b251fd1",
   "metadata": {},
   "outputs": [],
   "source": []
  }
 ],
 "metadata": {
  "kernelspec": {
   "display_name": "Python 3 (ipykernel)",
   "language": "python",
   "name": "python3"
  },
  "language_info": {
   "codemirror_mode": {
    "name": "ipython",
    "version": 3
   },
   "file_extension": ".py",
   "mimetype": "text/x-python",
   "name": "python",
   "nbconvert_exporter": "python",
   "pygments_lexer": "ipython3",
   "version": "3.9.6"
  }
 },
 "nbformat": 4,
 "nbformat_minor": 5
}
