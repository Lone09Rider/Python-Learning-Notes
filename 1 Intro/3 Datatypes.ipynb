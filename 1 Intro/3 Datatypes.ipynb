{
 "cells": [
  {
   "cell_type": "markdown",
   "id": "f350b5c9",
   "metadata": {},
   "source": [
    "# No Datatypes like int, char, float etc"
   ]
  },
  {
   "cell_type": "code",
   "execution_count": 1,
   "id": "d37713ca",
   "metadata": {},
   "outputs": [],
   "source": [
    "a = 9"
   ]
  },
  {
   "cell_type": "code",
   "execution_count": 2,
   "id": "1790d83d",
   "metadata": {},
   "outputs": [],
   "source": [
    "b = 'S'"
   ]
  },
  {
   "cell_type": "code",
   "execution_count": 3,
   "id": "80cfdae3",
   "metadata": {},
   "outputs": [],
   "source": [
    "c = 'SRJ'"
   ]
  },
  {
   "cell_type": "markdown",
   "id": "e025dab2",
   "metadata": {},
   "source": [
    "# We can also reassign values"
   ]
  },
  {
   "cell_type": "code",
   "execution_count": 4,
   "id": "58b38573",
   "metadata": {},
   "outputs": [],
   "source": [
    "a = 5.9"
   ]
  },
  {
   "cell_type": "code",
   "execution_count": 5,
   "id": "119293a5",
   "metadata": {},
   "outputs": [],
   "source": [
    "b = \"S\""
   ]
  },
  {
   "cell_type": "code",
   "execution_count": 6,
   "id": "2d988327",
   "metadata": {},
   "outputs": [],
   "source": [
    "c = 'SRJ'"
   ]
  },
  {
   "cell_type": "markdown",
   "id": "ab337e64",
   "metadata": {},
   "source": [
    "# Everything '' or \" \" is a string not a char "
   ]
  },
  {
   "cell_type": "code",
   "execution_count": 7,
   "id": "d91f137c",
   "metadata": {},
   "outputs": [
    {
     "name": "stdout",
     "output_type": "stream",
     "text": [
      "<class 'str'>\n",
      "<class 'str'>\n"
     ]
    }
   ],
   "source": [
    "print(type(b))\n",
    "print(type(c))"
   ]
  },
  {
   "cell_type": "code",
   "execution_count": 8,
   "id": "bed77125",
   "metadata": {},
   "outputs": [
    {
     "name": "stdout",
     "output_type": "stream",
     "text": [
      "<class 'float'>\n"
     ]
    }
   ],
   "source": [
    "print(type(a))"
   ]
  },
  {
   "cell_type": "code",
   "execution_count": 9,
   "id": "bd77e8c0",
   "metadata": {},
   "outputs": [
    {
     "name": "stdout",
     "output_type": "stream",
     "text": [
      "<class 'int'>\n"
     ]
    }
   ],
   "source": [
    "a = 9\n",
    "print(type(a))"
   ]
  },
  {
   "cell_type": "code",
   "execution_count": null,
   "id": "5932e279",
   "metadata": {},
   "outputs": [],
   "source": []
  }
 ],
 "metadata": {
  "kernelspec": {
   "display_name": "Python 3 (ipykernel)",
   "language": "python",
   "name": "python3"
  },
  "language_info": {
   "codemirror_mode": {
    "name": "ipython",
    "version": 3
   },
   "file_extension": ".py",
   "mimetype": "text/x-python",
   "name": "python",
   "nbconvert_exporter": "python",
   "pygments_lexer": "ipython3",
   "version": "3.9.6"
  }
 },
 "nbformat": 4,
 "nbformat_minor": 5
}
