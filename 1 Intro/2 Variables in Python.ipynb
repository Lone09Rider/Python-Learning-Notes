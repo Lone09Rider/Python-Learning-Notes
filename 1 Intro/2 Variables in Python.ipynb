{
 "cells": [
  {
   "cell_type": "markdown",
   "id": "a2dd4c7f",
   "metadata": {},
   "source": [
    "# It has no datatypes declaration and we can reassign variable values"
   ]
  },
  {
   "cell_type": "code",
   "execution_count": 1,
   "id": "b36df512",
   "metadata": {},
   "outputs": [],
   "source": [
    "x = 9"
   ]
  },
  {
   "cell_type": "code",
   "execution_count": 2,
   "id": "ec4163da",
   "metadata": {},
   "outputs": [],
   "source": [
    "y = 10"
   ]
  },
  {
   "cell_type": "code",
   "execution_count": 3,
   "id": "54bb125e",
   "metadata": {},
   "outputs": [],
   "source": [
    "z = x+y"
   ]
  },
  {
   "cell_type": "code",
   "execution_count": 4,
   "id": "80939da3",
   "metadata": {},
   "outputs": [
    {
     "name": "stdout",
     "output_type": "stream",
     "text": [
      "19\n"
     ]
    }
   ],
   "source": [
    "print(z)"
   ]
  },
  {
   "cell_type": "code",
   "execution_count": 5,
   "id": "cc893220",
   "metadata": {},
   "outputs": [
    {
     "name": "stdout",
     "output_type": "stream",
     "text": [
      "19\n",
      "9\n"
     ]
    }
   ],
   "source": [
    "print(z)\n",
    "z = 9\n",
    "print(z)"
   ]
  },
  {
   "cell_type": "markdown",
   "id": "4abebad5",
   "metadata": {},
   "source": [
    "# Variables can start with lowercase, uppercase, digits or underscore\n"
   ]
  },
  {
   "cell_type": "code",
   "execution_count": 6,
   "id": "fb6b56c1",
   "metadata": {},
   "outputs": [],
   "source": [
    "A = 9\n",
    "a = 9\n",
    "a_A = 9\n",
    "A_a = 9"
   ]
  },
  {
   "cell_type": "code",
   "execution_count": 7,
   "id": "6bd8b290",
   "metadata": {},
   "outputs": [
    {
     "name": "stdout",
     "output_type": "stream",
     "text": [
      "9 9 9 9\n"
     ]
    }
   ],
   "source": [
    "print(A, a, a_A, A_a)"
   ]
  },
  {
   "cell_type": "code",
   "execution_count": 8,
   "id": "6786e8c0",
   "metadata": {},
   "outputs": [
    {
     "name": "stdout",
     "output_type": "stream",
     "text": [
      "9\n"
     ]
    }
   ],
   "source": [
    "_abc = 9\n",
    "print(_abc)"
   ]
  },
  {
   "cell_type": "code",
   "execution_count": null,
   "id": "06406a63",
   "metadata": {},
   "outputs": [],
   "source": []
  }
 ],
 "metadata": {
  "kernelspec": {
   "display_name": "Python 3 (ipykernel)",
   "language": "python",
   "name": "python3"
  },
  "language_info": {
   "codemirror_mode": {
    "name": "ipython",
    "version": 3
   },
   "file_extension": ".py",
   "mimetype": "text/x-python",
   "name": "python",
   "nbconvert_exporter": "python",
   "pygments_lexer": "ipython3",
   "version": "3.9.6"
  }
 },
 "nbformat": 4,
 "nbformat_minor": 5
}
