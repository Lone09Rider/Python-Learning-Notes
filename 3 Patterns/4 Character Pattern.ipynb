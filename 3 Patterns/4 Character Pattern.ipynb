{
 "cells": [
  {
   "cell_type": "code",
   "execution_count": 4,
   "id": "08549151",
   "metadata": {},
   "outputs": [
    {
     "name": "stdout",
     "output_type": "stream",
     "text": [
      "The character pattern \n",
      "A \n",
      "B C \n",
      "D E F \n",
      "G H I J \n",
      "K L M N O \n"
     ]
    }
   ],
   "source": [
    "print(\"The character pattern \")  \n",
    "asciiValue = 65      \n",
    "for i in range(0, 5):  \n",
    "    for j in range(0, i + 1):  \n",
    "        alphabate = chr(asciiValue)  \n",
    "        print(alphabate, end=' ')  \n",
    "        asciiValue += 1  \n",
    "    print()  "
   ]
  },
  {
   "cell_type": "code",
   "execution_count": null,
   "id": "4b061615",
   "metadata": {},
   "outputs": [],
   "source": []
  }
 ],
 "metadata": {
  "kernelspec": {
   "display_name": "Python 3 (ipykernel)",
   "language": "python",
   "name": "python3"
  },
  "language_info": {
   "codemirror_mode": {
    "name": "ipython",
    "version": 3
   },
   "file_extension": ".py",
   "mimetype": "text/x-python",
   "name": "python",
   "nbconvert_exporter": "python",
   "pygments_lexer": "ipython3",
   "version": "3.9.6"
  }
 },
 "nbformat": 4,
 "nbformat_minor": 5
}
