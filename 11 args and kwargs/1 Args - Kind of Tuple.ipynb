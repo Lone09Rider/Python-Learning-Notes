{
 "cells": [
  {
   "cell_type": "markdown",
   "id": "4a133bef",
   "metadata": {},
   "source": [
    "# For Multiple input without any error"
   ]
  },
  {
   "cell_type": "markdown",
   "id": "39d2bd1b",
   "metadata": {},
   "source": [
    "### Error Code"
   ]
  },
  {
   "cell_type": "code",
   "execution_count": 1,
   "id": "42c27a3a",
   "metadata": {},
   "outputs": [],
   "source": [
    "def x(i, j):\n",
    "    print(i, j)"
   ]
  },
  {
   "cell_type": "code",
   "execution_count": 2,
   "id": "36150389",
   "metadata": {},
   "outputs": [
    {
     "name": "stdout",
     "output_type": "stream",
     "text": [
      "2 3\n"
     ]
    }
   ],
   "source": [
    "x(2, 3)"
   ]
  },
  {
   "cell_type": "code",
   "execution_count": 3,
   "id": "af5ecfda",
   "metadata": {},
   "outputs": [
    {
     "ename": "TypeError",
     "evalue": "x() takes 2 positional arguments but 3 were given",
     "output_type": "error",
     "traceback": [
      "\u001b[1;31m---------------------------------------------------------------------------\u001b[0m",
      "\u001b[1;31mTypeError\u001b[0m                                 Traceback (most recent call last)",
      "\u001b[1;32m~\\AppData\\Local\\Temp/ipykernel_9700/1832582032.py\u001b[0m in \u001b[0;36m<module>\u001b[1;34m\u001b[0m\n\u001b[1;32m----> 1\u001b[1;33m \u001b[0mx\u001b[0m\u001b[1;33m(\u001b[0m\u001b[1;36m1\u001b[0m\u001b[1;33m,\u001b[0m \u001b[1;36m3\u001b[0m\u001b[1;33m,\u001b[0m \u001b[1;36m4\u001b[0m\u001b[1;33m)\u001b[0m\u001b[1;33m\u001b[0m\u001b[1;33m\u001b[0m\u001b[0m\n\u001b[0m",
      "\u001b[1;31mTypeError\u001b[0m: x() takes 2 positional arguments but 3 were given"
     ]
    }
   ],
   "source": [
    "x(1, 3, 4)"
   ]
  },
  {
   "cell_type": "markdown",
   "id": "66b8de0f",
   "metadata": {},
   "source": [
    "## Concept of ARGS"
   ]
  },
  {
   "cell_type": "code",
   "execution_count": 4,
   "id": "23946c9e",
   "metadata": {},
   "outputs": [],
   "source": [
    "def args(*args):\n",
    "    print(args)"
   ]
  },
  {
   "cell_type": "code",
   "execution_count": 5,
   "id": "1987ef53",
   "metadata": {},
   "outputs": [
    {
     "name": "stdout",
     "output_type": "stream",
     "text": [
      "(1, 2, 3)\n"
     ]
    }
   ],
   "source": [
    "args(1, 2, 3)"
   ]
  },
  {
   "cell_type": "code",
   "execution_count": 6,
   "id": "2a34facb",
   "metadata": {},
   "outputs": [
    {
     "name": "stdout",
     "output_type": "stream",
     "text": [
      "(5, 9)\n"
     ]
    }
   ],
   "source": [
    "args(5, 9)"
   ]
  },
  {
   "cell_type": "code",
   "execution_count": 7,
   "id": "f3315f7e",
   "metadata": {},
   "outputs": [
    {
     "name": "stdout",
     "output_type": "stream",
     "text": [
      "(10,)\n"
     ]
    }
   ],
   "source": [
    "args(10)"
   ]
  },
  {
   "cell_type": "code",
   "execution_count": null,
   "id": "cd476b03",
   "metadata": {},
   "outputs": [],
   "source": []
  }
 ],
 "metadata": {
  "kernelspec": {
   "display_name": "Python 3 (ipykernel)",
   "language": "python",
   "name": "python3"
  },
  "language_info": {
   "codemirror_mode": {
    "name": "ipython",
    "version": 3
   },
   "file_extension": ".py",
   "mimetype": "text/x-python",
   "name": "python",
   "nbconvert_exporter": "python",
   "pygments_lexer": "ipython3",
   "version": "3.8.0"
  }
 },
 "nbformat": 4,
 "nbformat_minor": 5
}
