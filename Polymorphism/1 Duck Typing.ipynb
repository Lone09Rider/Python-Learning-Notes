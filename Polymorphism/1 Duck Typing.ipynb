{
 "cells": [
  {
   "cell_type": "code",
   "execution_count": 1,
   "id": "3a4a45aa-5527-4f6b-9d61-703639febd03",
   "metadata": {},
   "outputs": [],
   "source": [
    "class Pycharm:\n",
    "    \n",
    "    def run(self):\n",
    "        print(\"Running\")\n",
    "class Jupyter_Note:\n",
    "    \n",
    "    def run(self):\n",
    "        print(\"Running Line By Line\")\n",
    "class Laptop:\n",
    "    \n",
    "    def code(self, ide):\n",
    "        ide.run()"
   ]
  },
  {
   "cell_type": "code",
   "execution_count": 2,
   "id": "dd53b746-fdff-43dd-8ef0-f4de219db6dd",
   "metadata": {},
   "outputs": [],
   "source": [
    "ide = Pycharm()"
   ]
  },
  {
   "cell_type": "code",
   "execution_count": 4,
   "id": "f52c0e4d-79c3-4538-93cb-cd82bfd0175c",
   "metadata": {},
   "outputs": [
    {
     "name": "stdout",
     "output_type": "stream",
     "text": [
      "Running\n"
     ]
    }
   ],
   "source": [
    "l1 = Laptop()\n",
    "l1.code(ide)"
   ]
  },
  {
   "cell_type": "code",
   "execution_count": 5,
   "id": "25458623-335a-43ba-8a24-76d4d96530dd",
   "metadata": {},
   "outputs": [],
   "source": [
    "ide = Jupyter_Note()"
   ]
  },
  {
   "cell_type": "code",
   "execution_count": 6,
   "id": "092f0537-8e42-4225-ae3b-5f24e76df2fd",
   "metadata": {},
   "outputs": [
    {
     "name": "stdout",
     "output_type": "stream",
     "text": [
      "Running Line By Line\n"
     ]
    }
   ],
   "source": [
    "l1.code(ide)"
   ]
  },
  {
   "cell_type": "code",
   "execution_count": null,
   "id": "3eda12ad-d167-460e-b2b0-f897f9b409e3",
   "metadata": {},
   "outputs": [],
   "source": []
  }
 ],
 "metadata": {
  "kernelspec": {
   "display_name": "Python 3",
   "language": "python",
   "name": "python3"
  },
  "language_info": {
   "codemirror_mode": {
    "name": "ipython",
    "version": 3
   },
   "file_extension": ".py",
   "mimetype": "text/x-python",
   "name": "python",
   "nbconvert_exporter": "python",
   "pygments_lexer": "ipython3",
   "version": "3.8.8"
  }
 },
 "nbformat": 4,
 "nbformat_minor": 5
}
