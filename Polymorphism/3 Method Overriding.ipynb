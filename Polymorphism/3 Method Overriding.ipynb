{
 "cells": [
  {
   "cell_type": "code",
   "execution_count": 1,
   "id": "991c5961-a61f-4715-8ff8-a8970dd52e75",
   "metadata": {},
   "outputs": [],
   "source": [
    "class A:\n",
    "    def show(self):\n",
    "        print(\"In A\")\n",
    "\n",
    "class B(A):\n",
    "    def show(self):\n",
    "        print(\"In B\")"
   ]
  },
  {
   "cell_type": "code",
   "execution_count": 2,
   "id": "c692d651-2d20-45a9-a7cb-356952fdd20c",
   "metadata": {},
   "outputs": [],
   "source": [
    "x = B()"
   ]
  },
  {
   "cell_type": "code",
   "execution_count": 3,
   "id": "de2fbb2b-d7dd-4559-95d0-a5e7d43ba55a",
   "metadata": {},
   "outputs": [
    {
     "name": "stdout",
     "output_type": "stream",
     "text": [
      "In B\n"
     ]
    }
   ],
   "source": [
    "x.show()"
   ]
  },
  {
   "cell_type": "code",
   "execution_count": 4,
   "id": "5cf79327-b588-4361-abfe-1a6156cfbf1c",
   "metadata": {},
   "outputs": [],
   "source": [
    "y = A()"
   ]
  },
  {
   "cell_type": "code",
   "execution_count": 5,
   "id": "3857848a-e42a-4bc7-b596-26bff5bf88e4",
   "metadata": {},
   "outputs": [
    {
     "name": "stdout",
     "output_type": "stream",
     "text": [
      "In A\n"
     ]
    }
   ],
   "source": [
    "y.show()"
   ]
  },
  {
   "cell_type": "code",
   "execution_count": null,
   "id": "0b8da373-ba57-4183-96d8-f204f07bdd85",
   "metadata": {},
   "outputs": [],
   "source": []
  }
 ],
 "metadata": {
  "kernelspec": {
   "display_name": "Python 3",
   "language": "python",
   "name": "python3"
  },
  "language_info": {
   "codemirror_mode": {
    "name": "ipython",
    "version": 3
   },
   "file_extension": ".py",
   "mimetype": "text/x-python",
   "name": "python",
   "nbconvert_exporter": "python",
   "pygments_lexer": "ipython3",
   "version": "3.8.8"
  }
 },
 "nbformat": 4,
 "nbformat_minor": 5
}
