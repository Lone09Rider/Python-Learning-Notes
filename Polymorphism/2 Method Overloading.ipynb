{
 "cells": [
  {
   "cell_type": "code",
   "execution_count": 1,
   "id": "48b089af-688d-4c73-ac45-85021233ceca",
   "metadata": {},
   "outputs": [],
   "source": [
    "class A:\n",
    "    \n",
    "    def sum(self, a = None, b = None, c = None):\n",
    "        if a != None and b != None and c != None:\n",
    "            print(a + b + c)\n",
    "        elif a != None and b != None:\n",
    "            print(a+b)\n",
    "        else:\n",
    "            print(a)"
   ]
  },
  {
   "cell_type": "code",
   "execution_count": 2,
   "id": "f0fab01c-e565-4118-85b3-5da75b51bdd8",
   "metadata": {},
   "outputs": [],
   "source": [
    "a = A()"
   ]
  },
  {
   "cell_type": "code",
   "execution_count": 3,
   "id": "809b1739-3506-4b6a-acfa-10c073c8f383",
   "metadata": {},
   "outputs": [
    {
     "name": "stdout",
     "output_type": "stream",
     "text": [
      "9\n"
     ]
    }
   ],
   "source": [
    "a.sum(2, 2, 5)"
   ]
  },
  {
   "cell_type": "code",
   "execution_count": 4,
   "id": "0c9df0f8-46bb-446f-bd38-dbb4cfdd9992",
   "metadata": {},
   "outputs": [
    {
     "name": "stdout",
     "output_type": "stream",
     "text": [
      "5\n"
     ]
    }
   ],
   "source": [
    "a.sum(2, 3)"
   ]
  },
  {
   "cell_type": "code",
   "execution_count": 5,
   "id": "2fff0ce5-98de-40d7-8085-11b3ef5bff42",
   "metadata": {},
   "outputs": [
    {
     "name": "stdout",
     "output_type": "stream",
     "text": [
      "2\n"
     ]
    }
   ],
   "source": [
    "a.sum(2)"
   ]
  },
  {
   "cell_type": "code",
   "execution_count": null,
   "id": "3b566a84-e6df-4b14-af7e-a7cffecd34b9",
   "metadata": {},
   "outputs": [],
   "source": []
  }
 ],
 "metadata": {
  "kernelspec": {
   "display_name": "Python 3",
   "language": "python",
   "name": "python3"
  },
  "language_info": {
   "codemirror_mode": {
    "name": "ipython",
    "version": 3
   },
   "file_extension": ".py",
   "mimetype": "text/x-python",
   "name": "python",
   "nbconvert_exporter": "python",
   "pygments_lexer": "ipython3",
   "version": "3.8.8"
  }
 },
 "nbformat": 4,
 "nbformat_minor": 5
}
