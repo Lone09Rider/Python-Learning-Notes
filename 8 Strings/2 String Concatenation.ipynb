{
 "cells": [
  {
   "cell_type": "markdown",
   "id": "2ccdc44a",
   "metadata": {},
   "source": [
    "# Means Join 2 or More Strings"
   ]
  },
  {
   "cell_type": "code",
   "execution_count": 11,
   "id": "8092d7ed",
   "metadata": {},
   "outputs": [],
   "source": [
    "# Method 1"
   ]
  },
  {
   "cell_type": "code",
   "execution_count": 1,
   "id": "656ef297",
   "metadata": {},
   "outputs": [],
   "source": [
    "x = \"red\""
   ]
  },
  {
   "cell_type": "code",
   "execution_count": 2,
   "id": "bc592aee",
   "metadata": {},
   "outputs": [],
   "source": [
    "y = 'blue'"
   ]
  },
  {
   "cell_type": "code",
   "execution_count": 3,
   "id": "d4c445e2",
   "metadata": {},
   "outputs": [
    {
     "name": "stdout",
     "output_type": "stream",
     "text": [
      "redblue\n"
     ]
    }
   ],
   "source": [
    "print(x+y)"
   ]
  },
  {
   "cell_type": "code",
   "execution_count": 4,
   "id": "12fb528c",
   "metadata": {},
   "outputs": [],
   "source": [
    "c = x+y+\"green\""
   ]
  },
  {
   "cell_type": "code",
   "execution_count": 5,
   "id": "47b4ef02",
   "metadata": {},
   "outputs": [
    {
     "name": "stdout",
     "output_type": "stream",
     "text": [
      "redbluegreen\n"
     ]
    }
   ],
   "source": [
    "print(c)"
   ]
  },
  {
   "cell_type": "code",
   "execution_count": 6,
   "id": "7c01194e",
   "metadata": {},
   "outputs": [
    {
     "name": "stdout",
     "output_type": "stream",
     "text": [
      "2746486611632\n"
     ]
    }
   ],
   "source": [
    "print(id(x))"
   ]
  },
  {
   "cell_type": "code",
   "execution_count": 8,
   "id": "2dc7fd3b",
   "metadata": {},
   "outputs": [
    {
     "name": "stdout",
     "output_type": "stream",
     "text": [
      "redyellowyellow\n"
     ]
    }
   ],
   "source": [
    "x += \"yellow\"\n",
    "print(x)"
   ]
  },
  {
   "cell_type": "code",
   "execution_count": 9,
   "id": "7e6b233a",
   "metadata": {},
   "outputs": [
    {
     "name": "stdout",
     "output_type": "stream",
     "text": [
      "2746544889968\n"
     ]
    }
   ],
   "source": [
    "print(id(x))"
   ]
  },
  {
   "cell_type": "code",
   "execution_count": 10,
   "id": "c744a163",
   "metadata": {},
   "outputs": [],
   "source": [
    "# ID Changed cause new location cause of new string"
   ]
  },
  {
   "cell_type": "code",
   "execution_count": 12,
   "id": "4d956112",
   "metadata": {},
   "outputs": [],
   "source": [
    "# Method 2"
   ]
  },
  {
   "cell_type": "code",
   "execution_count": 13,
   "id": "3975f15e",
   "metadata": {},
   "outputs": [],
   "source": [
    "x = \"black\""
   ]
  },
  {
   "cell_type": "code",
   "execution_count": 14,
   "id": "8581173b",
   "metadata": {},
   "outputs": [
    {
     "name": "stdout",
     "output_type": "stream",
     "text": [
      "blackblack\n"
     ]
    }
   ],
   "source": [
    "print(x*2)"
   ]
  },
  {
   "cell_type": "code",
   "execution_count": null,
   "id": "858f0e46",
   "metadata": {},
   "outputs": [],
   "source": []
  }
 ],
 "metadata": {
  "kernelspec": {
   "display_name": "Python 3 (ipykernel)",
   "language": "python",
   "name": "python3"
  },
  "language_info": {
   "codemirror_mode": {
    "name": "ipython",
    "version": 3
   },
   "file_extension": ".py",
   "mimetype": "text/x-python",
   "name": "python",
   "nbconvert_exporter": "python",
   "pygments_lexer": "ipython3",
   "version": "3.8.0"
  }
 },
 "nbformat": 4,
 "nbformat_minor": 5
}
