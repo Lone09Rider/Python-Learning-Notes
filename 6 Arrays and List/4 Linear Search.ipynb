{
 "cells": [
  {
   "cell_type": "markdown",
   "id": "c3837666",
   "metadata": {},
   "source": [
    "# Using Indexing"
   ]
  },
  {
   "cell_type": "code",
   "execution_count": 1,
   "id": "72e44a65",
   "metadata": {
    "scrolled": true
   },
   "outputs": [],
   "source": [
    "def linear_search(x, n):\n",
    "    for i in range(len(x)):\n",
    "        if x[i] == n:\n",
    "            return True\n",
    "    else:\n",
    "        return False"
   ]
  },
  {
   "cell_type": "code",
   "execution_count": 2,
   "id": "d4461dc6",
   "metadata": {},
   "outputs": [
    {
     "name": "stdout",
     "output_type": "stream",
     "text": [
      "1 2 3 4 5 6 7 8 9 \n"
     ]
    }
   ],
   "source": [
    "x = [int(i) for i in input().split()]"
   ]
  },
  {
   "cell_type": "code",
   "execution_count": 3,
   "id": "bfbaff14",
   "metadata": {},
   "outputs": [
    {
     "name": "stdout",
     "output_type": "stream",
     "text": [
      "5\n"
     ]
    }
   ],
   "source": [
    "n = int(input())"
   ]
  },
  {
   "cell_type": "code",
   "execution_count": 4,
   "id": "fbed3c43",
   "metadata": {},
   "outputs": [
    {
     "name": "stdout",
     "output_type": "stream",
     "text": [
      "True\n"
     ]
    }
   ],
   "source": [
    "print(linear_search(x, n))"
   ]
  },
  {
   "cell_type": "markdown",
   "id": "837ccc10",
   "metadata": {},
   "source": [
    "# Using Basic List Elements"
   ]
  },
  {
   "cell_type": "code",
   "execution_count": 5,
   "id": "58b13196",
   "metadata": {},
   "outputs": [],
   "source": [
    "def linear_search(x, n):\n",
    "    for i in x:\n",
    "        if i == n:\n",
    "            return True\n",
    "    else:\n",
    "        return False"
   ]
  },
  {
   "cell_type": "code",
   "execution_count": 6,
   "id": "b54bb72b",
   "metadata": {},
   "outputs": [
    {
     "name": "stdout",
     "output_type": "stream",
     "text": [
      "1 2 4 5 9\n"
     ]
    }
   ],
   "source": [
    "x = [int(i) for i in input().split()]"
   ]
  },
  {
   "cell_type": "code",
   "execution_count": 7,
   "id": "5a53fac4",
   "metadata": {},
   "outputs": [
    {
     "name": "stdout",
     "output_type": "stream",
     "text": [
      "9\n"
     ]
    }
   ],
   "source": [
    "n = int(input())"
   ]
  },
  {
   "cell_type": "code",
   "execution_count": 8,
   "id": "e9a32cc9",
   "metadata": {},
   "outputs": [
    {
     "name": "stdout",
     "output_type": "stream",
     "text": [
      "True\n"
     ]
    }
   ],
   "source": [
    "print(linear_search(x, n))"
   ]
  },
  {
   "cell_type": "code",
   "execution_count": 9,
   "id": "1f201606",
   "metadata": {},
   "outputs": [
    {
     "name": "stdout",
     "output_type": "stream",
     "text": [
      "99\n"
     ]
    }
   ],
   "source": [
    "n = int(input())"
   ]
  },
  {
   "cell_type": "code",
   "execution_count": 10,
   "id": "3c9d6aaf",
   "metadata": {},
   "outputs": [
    {
     "name": "stdout",
     "output_type": "stream",
     "text": [
      "False\n"
     ]
    }
   ],
   "source": [
    "print(linear_search(x, n))"
   ]
  },
  {
   "cell_type": "code",
   "execution_count": null,
   "id": "5160e47f",
   "metadata": {},
   "outputs": [],
   "source": []
  }
 ],
 "metadata": {
  "kernelspec": {
   "display_name": "Python 3 (ipykernel)",
   "language": "python",
   "name": "python3"
  },
  "language_info": {
   "codemirror_mode": {
    "name": "ipython",
    "version": 3
   },
   "file_extension": ".py",
   "mimetype": "text/x-python",
   "name": "python",
   "nbconvert_exporter": "python",
   "pygments_lexer": "ipython3",
   "version": "3.9.6"
  }
 },
 "nbformat": 4,
 "nbformat_minor": 5
}
