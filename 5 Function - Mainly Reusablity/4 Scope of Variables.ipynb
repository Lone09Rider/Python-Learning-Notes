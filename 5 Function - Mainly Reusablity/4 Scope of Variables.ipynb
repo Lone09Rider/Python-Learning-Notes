{
 "cells": [
  {
   "cell_type": "code",
   "execution_count": 9,
   "id": "a578d607",
   "metadata": {},
   "outputs": [
    {
     "name": "stdout",
     "output_type": "stream",
     "text": [
      "10\n",
      "9\n",
      "10\n"
     ]
    }
   ],
   "source": [
    "i = 10  # Global\n",
    "def i1():  #Local\n",
    "    i = 9\n",
    "    print(i)\n",
    "print(i)  # Global\n",
    "i1()  #Local\n",
    "print(i)  # Global"
   ]
  },
  {
   "cell_type": "code",
   "execution_count": null,
   "id": "b4e919cd",
   "metadata": {},
   "outputs": [],
   "source": []
  }
 ],
 "metadata": {
  "kernelspec": {
   "display_name": "Python 3 (ipykernel)",
   "language": "python",
   "name": "python3"
  },
  "language_info": {
   "codemirror_mode": {
    "name": "ipython",
    "version": 3
   },
   "file_extension": ".py",
   "mimetype": "text/x-python",
   "name": "python",
   "nbconvert_exporter": "python",
   "pygments_lexer": "ipython3",
   "version": "3.9.6"
  }
 },
 "nbformat": 4,
 "nbformat_minor": 5
}
