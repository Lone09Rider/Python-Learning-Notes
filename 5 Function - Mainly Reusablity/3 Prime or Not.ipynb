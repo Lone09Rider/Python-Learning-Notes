{
 "cells": [
  {
   "cell_type": "code",
   "execution_count": 1,
   "id": "9d305a59",
   "metadata": {},
   "outputs": [],
   "source": [
    "def prime_or_not(x):\n",
    "    flag = 0\n",
    "    for i in range(2, x):\n",
    "        if x%i == 0:\n",
    "            flag = 1\n",
    "    if flag == 0:\n",
    "        print(\"Prime\")\n",
    "    else:\n",
    "        print(\"Not Prime\")"
   ]
  },
  {
   "cell_type": "code",
   "execution_count": 2,
   "id": "d3b737cd",
   "metadata": {},
   "outputs": [
    {
     "name": "stdout",
     "output_type": "stream",
     "text": [
      "1\n",
      "Prime\n"
     ]
    }
   ],
   "source": [
    "x = int(input())\n",
    "prime_or_not(x)"
   ]
  },
  {
   "cell_type": "code",
   "execution_count": 3,
   "id": "f286e935",
   "metadata": {},
   "outputs": [
    {
     "name": "stdout",
     "output_type": "stream",
     "text": [
      "2\n",
      "Prime\n"
     ]
    }
   ],
   "source": [
    "x = int(input())\n",
    "prime_or_not(x)"
   ]
  },
  {
   "cell_type": "code",
   "execution_count": 4,
   "id": "07637f02",
   "metadata": {},
   "outputs": [
    {
     "name": "stdout",
     "output_type": "stream",
     "text": [
      "3\n",
      "Prime\n"
     ]
    }
   ],
   "source": [
    "x = int(input())\n",
    "prime_or_not(x)"
   ]
  },
  {
   "cell_type": "code",
   "execution_count": 5,
   "id": "40f48f6a",
   "metadata": {},
   "outputs": [
    {
     "name": "stdout",
     "output_type": "stream",
     "text": [
      "4\n",
      "Not Prime\n"
     ]
    }
   ],
   "source": [
    "x = int(input())\n",
    "prime_or_not(x)"
   ]
  },
  {
   "cell_type": "code",
   "execution_count": 6,
   "id": "01df4457",
   "metadata": {},
   "outputs": [
    {
     "name": "stdout",
     "output_type": "stream",
     "text": [
      "5\n",
      "Prime\n"
     ]
    }
   ],
   "source": [
    "x = int(input())\n",
    "prime_or_not(x)"
   ]
  },
  {
   "cell_type": "code",
   "execution_count": 7,
   "id": "345f0dbc",
   "metadata": {},
   "outputs": [
    {
     "name": "stdout",
     "output_type": "stream",
     "text": [
      "6\n",
      "Not Prime\n"
     ]
    }
   ],
   "source": [
    "x = int(input())\n",
    "prime_or_not(x)"
   ]
  },
  {
   "cell_type": "code",
   "execution_count": 8,
   "id": "94147513",
   "metadata": {},
   "outputs": [
    {
     "name": "stdout",
     "output_type": "stream",
     "text": [
      "7\n",
      "Prime\n"
     ]
    }
   ],
   "source": [
    "x = int(input())\n",
    "prime_or_not(x)"
   ]
  },
  {
   "cell_type": "code",
   "execution_count": 9,
   "id": "ab1af337",
   "metadata": {},
   "outputs": [
    {
     "name": "stdout",
     "output_type": "stream",
     "text": [
      "8\n",
      "Not Prime\n"
     ]
    }
   ],
   "source": [
    "x = int(input())\n",
    "prime_or_not(x)"
   ]
  },
  {
   "cell_type": "code",
   "execution_count": 10,
   "id": "beb6c7d0",
   "metadata": {},
   "outputs": [
    {
     "name": "stdout",
     "output_type": "stream",
     "text": [
      "9\n",
      "Not Prime\n"
     ]
    }
   ],
   "source": [
    "x = int(input())\n",
    "prime_or_not(x)"
   ]
  },
  {
   "cell_type": "code",
   "execution_count": 11,
   "id": "42408a4a",
   "metadata": {},
   "outputs": [
    {
     "name": "stdout",
     "output_type": "stream",
     "text": [
      "10\n",
      "Not Prime\n"
     ]
    }
   ],
   "source": [
    "x = int(input())\n",
    "prime_or_not(x)"
   ]
  },
  {
   "cell_type": "code",
   "execution_count": null,
   "id": "8b2ac1f9",
   "metadata": {},
   "outputs": [],
   "source": []
  }
 ],
 "metadata": {
  "kernelspec": {
   "display_name": "Python 3 (ipykernel)",
   "language": "python",
   "name": "python3"
  },
  "language_info": {
   "codemirror_mode": {
    "name": "ipython",
    "version": 3
   },
   "file_extension": ".py",
   "mimetype": "text/x-python",
   "name": "python",
   "nbconvert_exporter": "python",
   "pygments_lexer": "ipython3",
   "version": "3.9.6"
  }
 },
 "nbformat": 4,
 "nbformat_minor": 5
}
