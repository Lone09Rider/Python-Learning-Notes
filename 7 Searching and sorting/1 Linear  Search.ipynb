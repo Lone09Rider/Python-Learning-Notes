{
 "cells": [
  {
   "cell_type": "markdown",
   "id": "a8cb3d7c",
   "metadata": {},
   "source": [
    "# Using Recursion"
   ]
  },
  {
   "cell_type": "code",
   "execution_count": 1,
   "id": "39c62fae",
   "metadata": {},
   "outputs": [],
   "source": [
    "def lin_search(x, n):\n",
    "    if x[0]==n:\n",
    "        return x.index(n)\n",
    "    else:\n",
    "        return lin_search(x[1:], n)+1"
   ]
  },
  {
   "cell_type": "code",
   "execution_count": 2,
   "id": "eec29400",
   "metadata": {},
   "outputs": [
    {
     "name": "stdout",
     "output_type": "stream",
     "text": [
      "4\n"
     ]
    }
   ],
   "source": [
    "print(lin_search([1, 2, 3, 4, 5], 5))"
   ]
  },
  {
   "cell_type": "markdown",
   "id": "22c1b4ed",
   "metadata": {},
   "source": [
    "# Using Iterative method"
   ]
  },
  {
   "cell_type": "code",
   "execution_count": 3,
   "id": "9a6bedc0",
   "metadata": {},
   "outputs": [],
   "source": [
    "def lin_search(x, n):\n",
    "    for i in range(len(x)):\n",
    "        if x[i] == n:\n",
    "            return i, True"
   ]
  },
  {
   "cell_type": "code",
   "execution_count": 4,
   "id": "62d4994e",
   "metadata": {},
   "outputs": [
    {
     "name": "stdout",
     "output_type": "stream",
     "text": [
      "(4, True)\n"
     ]
    }
   ],
   "source": [
    "print(lin_search([1, 2, 3, 4, 5], 5))"
   ]
  },
  {
   "cell_type": "code",
   "execution_count": null,
   "id": "697d08af",
   "metadata": {},
   "outputs": [],
   "source": []
  }
 ],
 "metadata": {
  "kernelspec": {
   "display_name": "Python 3 (ipykernel)",
   "language": "python",
   "name": "python3"
  },
  "language_info": {
   "codemirror_mode": {
    "name": "ipython",
    "version": 3
   },
   "file_extension": ".py",
   "mimetype": "text/x-python",
   "name": "python",
   "nbconvert_exporter": "python",
   "pygments_lexer": "ipython3",
   "version": "3.9.6"
  }
 },
 "nbformat": 4,
 "nbformat_minor": 5
}
