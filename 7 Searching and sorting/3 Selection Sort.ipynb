{
 "cells": [
  {
   "cell_type": "code",
   "execution_count": 1,
   "id": "c95d9df8",
   "metadata": {},
   "outputs": [],
   "source": [
    "def selection_sort(x):\n",
    "    l = len(x)\n",
    "    for i in range(l-1):\n",
    "        min = i\n",
    "        for j in range(i+1, l):\n",
    "            if x[j] < min:\n",
    "                min = j\n",
    "        x[i], x[min] =  x[min], x[i]"
   ]
  },
  {
   "cell_type": "code",
   "execution_count": 2,
   "id": "8c4d4e7c",
   "metadata": {},
   "outputs": [],
   "source": [
    "x = [1,4,2,5,3]"
   ]
  },
  {
   "cell_type": "code",
   "execution_count": 3,
   "id": "8dbb3ea5",
   "metadata": {},
   "outputs": [],
   "source": [
    "selection_sort(x)"
   ]
  },
  {
   "cell_type": "code",
   "execution_count": 4,
   "id": "3eee80a4",
   "metadata": {},
   "outputs": [
    {
     "name": "stdout",
     "output_type": "stream",
     "text": [
      "[1, 4, 2, 5, 3]\n"
     ]
    }
   ],
   "source": [
    "print(x)"
   ]
  },
  {
   "cell_type": "code",
   "execution_count": null,
   "id": "63140769",
   "metadata": {},
   "outputs": [],
   "source": []
  }
 ],
 "metadata": {
  "kernelspec": {
   "display_name": "Python 3 (ipykernel)",
   "language": "python",
   "name": "python3"
  },
  "language_info": {
   "codemirror_mode": {
    "name": "ipython",
    "version": 3
   },
   "file_extension": ".py",
   "mimetype": "text/x-python",
   "name": "python",
   "nbconvert_exporter": "python",
   "pygments_lexer": "ipython3",
   "version": "3.9.6"
  }
 },
 "nbformat": 4,
 "nbformat_minor": 5
}
