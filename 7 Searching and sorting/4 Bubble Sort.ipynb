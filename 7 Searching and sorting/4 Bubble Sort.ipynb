{
 "cells": [
  {
   "cell_type": "code",
   "execution_count": 1,
   "id": "36a4d76c",
   "metadata": {},
   "outputs": [],
   "source": [
    "def bub_sort(x):\n",
    "    l = len(x)\n",
    "    for i in range(l-1):\n",
    "        for j in range(l-1-i):\n",
    "            if x[j] > x[j+1]:\n",
    "                x[j], x[j+1] = x[j+1], x[j]"
   ]
  },
  {
   "cell_type": "code",
   "execution_count": 2,
   "id": "abacb231",
   "metadata": {},
   "outputs": [],
   "source": [
    "x = [1, 3, 2, 4, 9, 5]"
   ]
  },
  {
   "cell_type": "code",
   "execution_count": 3,
   "id": "a3df73b4",
   "metadata": {},
   "outputs": [],
   "source": [
    "bub_sort(x)"
   ]
  },
  {
   "cell_type": "code",
   "execution_count": 5,
   "id": "e8fb5af3",
   "metadata": {},
   "outputs": [
    {
     "name": "stdout",
     "output_type": "stream",
     "text": [
      "[1, 2, 3, 4, 5, 9]\n"
     ]
    }
   ],
   "source": [
    "print(x)"
   ]
  },
  {
   "cell_type": "code",
   "execution_count": null,
   "id": "5a4ed466",
   "metadata": {},
   "outputs": [],
   "source": []
  }
 ],
 "metadata": {
  "kernelspec": {
   "display_name": "Python 3 (ipykernel)",
   "language": "python",
   "name": "python3"
  },
  "language_info": {
   "codemirror_mode": {
    "name": "ipython",
    "version": 3
   },
   "file_extension": ".py",
   "mimetype": "text/x-python",
   "name": "python",
   "nbconvert_exporter": "python",
   "pygments_lexer": "ipython3",
   "version": "3.9.6"
  }
 },
 "nbformat": 4,
 "nbformat_minor": 5
}
