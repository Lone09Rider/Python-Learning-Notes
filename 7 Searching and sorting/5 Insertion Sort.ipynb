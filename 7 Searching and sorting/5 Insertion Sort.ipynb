{
 "cells": [
  {
   "cell_type": "code",
   "execution_count": 7,
   "id": "93229c1a",
   "metadata": {},
   "outputs": [],
   "source": [
    "def in_sort(x):\n",
    "    l = len(x)\n",
    "    for i in range(1, l):\n",
    "        j = i-1\n",
    "        temp = x[i]\n",
    "        while j >=0 and x[j]> temp:\n",
    "            x[j+1] = x[j]\n",
    "            j = j-1\n",
    "        x[j+1] = temp"
   ]
  },
  {
   "cell_type": "code",
   "execution_count": 8,
   "id": "bfbc3343",
   "metadata": {},
   "outputs": [],
   "source": [
    "x = [1, 3, 2,9, 5]"
   ]
  },
  {
   "cell_type": "code",
   "execution_count": 9,
   "id": "4c3facc1",
   "metadata": {},
   "outputs": [],
   "source": [
    "in_sort(x)"
   ]
  },
  {
   "cell_type": "code",
   "execution_count": 10,
   "id": "3359dc8b",
   "metadata": {},
   "outputs": [
    {
     "name": "stdout",
     "output_type": "stream",
     "text": [
      "[1, 2, 3, 5, 9]\n"
     ]
    }
   ],
   "source": [
    "print(x)"
   ]
  },
  {
   "cell_type": "code",
   "execution_count": null,
   "id": "fdc00e35",
   "metadata": {},
   "outputs": [],
   "source": []
  }
 ],
 "metadata": {
  "kernelspec": {
   "display_name": "Python 3 (ipykernel)",
   "language": "python",
   "name": "python3"
  },
  "language_info": {
   "codemirror_mode": {
    "name": "ipython",
    "version": 3
   },
   "file_extension": ".py",
   "mimetype": "text/x-python",
   "name": "python",
   "nbconvert_exporter": "python",
   "pygments_lexer": "ipython3",
   "version": "3.9.6"
  }
 },
 "nbformat": 4,
 "nbformat_minor": 5
}
